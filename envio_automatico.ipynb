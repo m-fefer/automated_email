{
 "cells": [
  {
   "cell_type": "code",
   "execution_count": 39,
   "metadata": {},
   "outputs": [],
   "source": [
    "import os\n",
    "import pandas as pd\n",
    "import zipfile\n",
    "import openpyxl\n",
    "from win32com.client import Dispatch\n",
    "import time"
   ]
  },
  {
   "cell_type": "code",
   "execution_count": 40,
   "metadata": {},
   "outputs": [],
   "source": [
    "pasta_de_arquivos = r'seu/diretorio_dos_arquivos'\n",
    "\n",
    "pasta_mes = pasta_de_arquivos\n",
    "pasta_principal = os.path.dirname(os.path.dirname(pasta_mes))\n",
    "\n",
    "\n"
   ]
  },
  {
   "cell_type": "code",
   "execution_count": 41,
   "metadata": {},
   "outputs": [],
   "source": [
    "lista_todos_clientes = []\n",
    "\n",
    "def compacta_pastas(caminho_principal, mes):\n",
    "    # Itera sobre cada pasta dentro do caminho principal\n",
    "    for cliente in os.listdir(caminho_principal):\n",
    "        caminho_cliente = os.path.join(caminho_principal, cliente)\n",
    "        lista_todos_clientes.append(cliente)\n",
    "\n",
    "        # Verifica se é uma pasta\n",
    "        if os.path.isdir(caminho_cliente):\n",
    "            # Nome do arquivo zip\n",
    "            nome_zip = f'{mes} 25 - {cliente}.zip'\n",
    "            caminho_zip = os.path.join(caminho_cliente, nome_zip)\n",
    "            \n",
    "            # Cria o arquivo zip\n",
    "            with zipfile.ZipFile(caminho_zip, 'w') as zipf:\n",
    "                # Percorre recursivamente todos os arquivos e subpastas\n",
    "                for root, _, files in os.walk(caminho_cliente):\n",
    "                    for file in files:\n",
    "                        arquivo_path = os.path.join(root, file)\n",
    "                        # Ignora o próprio arquivo zipado recém-criado\n",
    "                        if arquivo_path == caminho_zip:\n",
    "                            continue\n",
    "                        # Adiciona ao zip mantendo a estrutura relativa\n",
    "                        zipf.write(arquivo_path, os.path.relpath(arquivo_path, caminho_cliente))\n",
    "            \n",
    "            print(f\"Arquivos de {cliente} compactados em: {caminho_zip}\")\n"
   ]
  },
  {
   "cell_type": "code",
   "execution_count": null,
   "metadata": {},
   "outputs": [],
   "source": [
    "compacta_pastas(pasta_mes, 'JAN')"
   ]
  },
  {
   "cell_type": "code",
   "execution_count": null,
   "metadata": {},
   "outputs": [],
   "source": [
    "caminho_lista_emails = os.path.join(pasta_principal,'arquivo_lista_emails.xlsx')\n",
    "\n",
    "df = pd.read_excel(caminho_lista_emails)\n",
    "\n",
    "df"
   ]
  },
  {
   "cell_type": "code",
   "execution_count": null,
   "metadata": {},
   "outputs": [],
   "source": [
    "novos_clientes = [c for c in lista_todos_clientes if c not in df['CLIENTE'].values]\n",
    "\n",
    "novos_clientes"
   ]
  },
  {
   "cell_type": "code",
   "execution_count": null,
   "metadata": {},
   "outputs": [],
   "source": [
    "df = pd.concat([df, pd.DataFrame({\"CLIENTE\": novos_clientes})], ignore_index=True)\n",
    "\n",
    "df"
   ]
  },
  {
   "cell_type": "code",
   "execution_count": 46,
   "metadata": {},
   "outputs": [],
   "source": [
    "df.to_excel(caminho_lista_emails, index=False)"
   ]
  },
  {
   "cell_type": "code",
   "execution_count": null,
   "metadata": {},
   "outputs": [],
   "source": [
    "df = pd.read_excel(caminho_lista_emails)\n",
    "\n",
    "df"
   ]
  },
  {
   "cell_type": "code",
   "execution_count": null,
   "metadata": {},
   "outputs": [],
   "source": [
    "import os\n",
    "import logging\n",
    "import smtplib\n",
    "from email.mime.text import MIMEText\n",
    "from email.mime.multipart import MIMEMultipart\n",
    "from email.mime.application import MIMEApplication\n",
    "#from dotenv import load_dotenv\n",
    "\n",
    "# Carrega variáveis de ambiente\n",
    "# load_dotenv()\n",
    "\n",
    "\n",
    "def send_email(sender_email, to_email, subject, zip_path, cliente):\n",
    "\n",
    "    # Monta o e-mail\n",
    "    msg = MIMEMultipart()\n",
    "    msg['From'] = sender_email\n",
    "    msg['To'] = \", \".join(to_email)\n",
    "    msg['Cc'] = 'emails_em_copia'\n",
    "    msg['Subject'] = subject\n",
    "\n",
    "    body = \"\"\"\n",
    "\n",
    "Mensagem a ser enviada no corpo do email\n",
    "\n",
    "\"\"\"\n",
    "\n",
    "    # Corpo do e-mail\n",
    "    msg.attach(MIMEText(body, 'html'))\n",
    "\n",
    "    # Anexo ZIP\n",
    "    with open(zip_path, 'rb') as f:\n",
    "        part = MIMEApplication(f.read(), Name=os.path.basename(zip_path))\n",
    "        part['Content-Disposition'] = f'attachment; filename=\"{os.path.basename(zip_path)}\"'\n",
    "        msg.attach(part)\n",
    "\n",
    "    try:\n",
    "          server.sendmail(sender_email, to_email, msg.as_string())\n",
    "          print(f'E-mail enviado para {cliente} com email: {to_email}')\n",
    "\n",
    "    except Exception as e:\n",
    "        print(f'Falha no envio para {to_email}: {e}')\n"
   ]
  },
  {
   "cell_type": "code",
   "execution_count": null,
   "metadata": {},
   "outputs": [],
   "source": [
    "smtp_server = \"smtp.office365.com\"\n",
    "smtp_port = 587\n",
    "sender_email = 'seu_email'\n",
    "sender_password = 'sua_senha_de_aplicativo'\n",
    "\n",
    "df_emails_enviados = pd.DataFrame(columns=['CLIENTE'])\n",
    "\n",
    "with smtplib.SMTP(smtp_server, smtp_port) as server:\n",
    "    server.starttls()\n",
    "    server.login(sender_email, sender_password)\n",
    "    \n",
    "    for _, row in df.iterrows():  # Itera sobre cada linha\n",
    "        cliente = row['CLIENTE']  # Ajuste conforme o nome da coluna\n",
    "        email_cliente = [e.strip() for e in row['EMAIL'].split(';')]  # Ajuste conforme o nome da coluna\n",
    "\n",
    "        caminho_cliente = os.path.join(pasta_mes, cliente)\n",
    "        \n",
    "        # Envia o arquivo compactado para o cliente\n",
    "        nome_zip = f'KIT JAN 25 - {cliente}.zip'\n",
    "        caminho_zip = os.path.join(caminho_cliente, nome_zip)\n",
    "        \n",
    "        if os.path.exists(caminho_zip):\n",
    "            assunto = f'KIT - PRESTAÇÃO DE CONTAS | {cliente} | JANEIRO 25'\n",
    "            send_email(sender_email, email_cliente, assunto, caminho_zip, cliente)\n",
    "\n",
    "            df_emails_enviados.loc[len(df_emails_enviados)] = {'CLIENTE': cliente}\n",
    "            \n",
    "        else:\n",
    "            print(f'O arquivo {nome_zip} não foi encontrado para {cliente}.')"
   ]
  },
  {
   "cell_type": "code",
   "execution_count": 38,
   "metadata": {},
   "outputs": [],
   "source": [
    "df_emails_enviados.to_excel(os.path.join(pasta_principal,'emails_enviados.xlsx'))"
   ]
  }
 ],
 "metadata": {
  "kernelspec": {
   "display_name": "Python 3",
   "language": "python",
   "name": "python3"
  },
  "language_info": {
   "codemirror_mode": {
    "name": "ipython",
    "version": 3
   },
   "file_extension": ".py",
   "mimetype": "text/x-python",
   "name": "python",
   "nbconvert_exporter": "python",
   "pygments_lexer": "ipython3",
   "version": "3.13.3"
  }
 },
 "nbformat": 4,
 "nbformat_minor": 2
}
